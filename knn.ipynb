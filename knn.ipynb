{
 "cells": [
  {
   "attachments": {
    "Capture-1.webp": {
     "image/webp": "[encoded data removed]"
    }
   },
   "cell_type": "markdown",
   "id": "705a2157",
   "metadata": {},
   "source": [
    "¿Cómo funciona el modelo KNN?\n",
    "El algoritmo K-NN (K Nearest Neighbors) o en español, K Vecinos Más Cercanos, trata de buscar los K puntos más cercanos a un punto concreto para poder inferir su valor. \n",
    "\n",
    "Este algoritmo pertenece al conjunto de técnicas del aprendizaje automático supervisado, y puede ser utilizado tanto para problemas de clasificación, como de regresión.\n",
    "\n",
    "Fuente de la información: https://www.themachinelearners.com/algoritmo-knn/\n",
    "\n",
    "![Capture-1.webp](attachment:Capture-1.webp)"
   ]
  },
  {
   "attachments": {
    "Capture-2.webp": {
     "image/webp": "[encoded data removed]"
    }
   },
   "cell_type": "markdown",
   "id": "1016060f",
   "metadata": {},
   "source": [
    "Si nos dieran datos de una sexta persona, pero no nos dieran su género, \n",
    "\n",
    "¿Podríamos adivinarlo de alguna forma? Aquí es donde entra la fuerza del algoritmo KNN. Como tenemos 5 personas, de las que sí conocemos su género, cogeremos K igual a 3, para coger los 3 puntos (o vecinos) más cercanos a nuestro nuevo punto negro. \n",
    "\n",
    "¿Por qué cogemos 3? Simplemente porque vamos a coger las categorías de los 3 elementos más cercanos y cogeremos la mayoría de estas categorías.\n",
    "![Capture-2.webp](attachment:Capture-2.webp)"
   ]
  },
  {
   "cell_type": "markdown",
   "id": "aa587c98",
   "metadata": {},
   "source": [
    "Funcionamiento paso a paso del algoritmo k-NN:\n",
    "\n",
    "1º. Calcular la distancia de todos los elementos con nuestro punto\n",
    "Tenemos que haber definido la función que vamos a utilizar para calcular la distancia. Lo más normal si trabajas con valores numéricos es utilizar la distancia euclídea.\n",
    "\n",
    "2º. Ordenar las distancias de menor a mayor\n",
    "Coloca todas las distancias de nuestro punto con el resto y ordénalos de menor a mayor, se hace así para saber cuáles son los más cercanos y los más alejados.\n",
    "\n",
    "3º. Seleccionar los K elementos más cercanos\n",
    "Una vez se ha definido el valor de K, nos quedamos con esta cantidad de valores, con la menor distancia. Que representa los valores más parecidos a nuestro punto.\n",
    "\n",
    "4º. Obtenemos la predicción del algoritmo\n",
    "En el caso de ser un problema de regresión, obtenemos la media de los K valores más cercanos, mientras que si fuera de clasificación, nos quedaríamos con la categoría más votada.\n",
    "\n"
   ]
  },
  {
   "cell_type": "markdown",
   "id": "77abfcee",
   "metadata": {},
   "source": [
    "Lazy Learning: Compara como de parecidos son los puntos que conocemos, con los puntos nuevos, para obtener así una predicción."
   ]
  },
  {
   "cell_type": "markdown",
   "id": "cc788ce7",
   "metadata": {},
   "source": [
    "Distancia: Si tenemos más de dos variables, sería imposible decir a ojo qué puntos están más cerca de otros. Necesitaríamos para esto un método para poder calcular la distancia entre los puntos."
   ]
  },
  {
   "cell_type": "markdown",
   "id": "1d3f9fae",
   "metadata": {},
   "source": [
    "Distancia Euclídea o distancia euclidiana:\n",
    "Pensada solo para variables numéricas. \n",
    "\n",
    "This function is able to return one of eight different matrix norms, \n",
    "or one of an infinite number of vector norms (described below), \n",
    "depending on the value of the ord parameter.\n",
    "https://numpy.org/doc/stable/reference/generated/numpy.linalg.norm.html\n",
    "\n",
    "\n",
    "La norma Euclidiana o norma L2 es como una regla que usamos para medir lo grande que es un vector (como una flecha en un dibujo). \n",
    "\n",
    "Imagina que tienes una flecha que apunta hacia arriba y mide 3 unidades de largo, y otra flecha que apunta hacia la derecha y mide 4 unidades de largo. La norma Euclidiana es como una regla que te dice cuán lejos están estas dos flechas si caminas directamente desde una a la otra. \n",
    "\n",
    "En este caso, la norma Euclidiana de estas dos flechas es de 5 unidades (porque 3 al cuadrado más 4 al cuadrado es 9 más 16, lo que da un total de 25, y la raíz cuadrada de 25 es 5). \n",
    "\n",
    "Entonces, la norma Euclidiana es una forma de medir lo largo que es un vector y cuán lejos están dos vectores entre sí."
   ]
  },
  {
   "cell_type": "code",
   "execution_count": 66,
   "id": "e44e1575",
   "metadata": {},
   "outputs": [
    {
     "name": "stdout",
     "output_type": "stream",
     "text": [
      "1.7320508075688772\n"
     ]
    }
   ],
   "source": [
    "#Calculando la distancia euclidiana en Python\n",
    "import numpy as np\n",
    "punto_1 = np.array([2, 4, 6])\n",
    "punto_2 = np.array([3, 5, 7])\n",
    "# Calculando la distancia euclidea\n",
    "distancia_euclidea = np.linalg.norm(punto_1 - punto_2)\n",
    "print(distancia_euclidea)"
   ]
  },
  {
   "cell_type": "markdown",
   "id": "8a567773",
   "metadata": {},
   "source": [
    "Escalar variables:\n",
    "Rango en 0 y 1, y otra con valores entre 0 y 1000, la segunda variable influiría mucho más que la primera en el cálculo de la distancia."
   ]
  },
  {
   "cell_type": "markdown",
   "id": "aeded427",
   "metadata": {},
   "source": [
    "Usando el Clasificador KNN"
   ]
  },
  {
   "cell_type": "code",
   "execution_count": 27,
   "id": "b58489e5",
   "metadata": {},
   "outputs": [],
   "source": [
    "import matplotlib.pyplot as plt\n",
    "import pandas as pd\n",
    "import seaborn as sns\n",
    "from sklearn.neighbors import KNeighborsClassifier"
   ]
  },
  {
   "cell_type": "markdown",
   "id": "ff02b091",
   "metadata": {},
   "source": [
    "Crearemos unos datos de prueba, de los que sabemos la categoría y creamos un punto nuevo, del que no sabemos su género y visualizamos todos los puntos"
   ]
  },
  {
   "cell_type": "code",
   "execution_count": 60,
   "id": "c4c1bec9",
   "metadata": {},
   "outputs": [
    {
     "data": {
      "image/png": "[encoded data removed]",
      "text/plain": [
       "<Figure size 640x480 with 1 Axes>"
      ]
     },
     "metadata": {},
     "output_type": "display_data"
    }
   ],
   "source": [
    "data = {'Masa': [50, 80, 90, 45, 60],\n",
    "        'Altura': [1.48, 1.82, 1.85, 1.55, 1.60],\n",
    "        'Genero': ['m', 'h', 'h', 'm', 'm']}\n",
    "\n",
    "#Agregar nueva información:\n",
    "punto_nuevo = {'Masa': [80],\n",
    "               'Altura': [1.40]}\n",
    "df = pd.DataFrame(data)\n",
    "punto_nuevo = pd.DataFrame(punto_nuevo)\n",
    "\n",
    "#Mas información agregada:\n",
    "punto_nuevo1 = {'Masa': [70],\n",
    "               'Altura': [1.83]}\n",
    "df = pd.DataFrame(data)\n",
    "punto_nuevo1 = pd.DataFrame(punto_nuevo1)\n",
    "\n",
    "punto_nuevo2 = {'Masa': [40],\n",
    "               'Altura': [1.40]}\n",
    "df = pd.DataFrame(data)\n",
    "punto_nuevo2 = pd.DataFrame(punto_nuevo2)\n",
    "\n",
    "# sns.scatterplot(df['Masa'], df['Altura'], hue=df['sex'])\n",
    "\n",
    "\n",
    "# Gráfico de dispersión\n",
    "ax = plt.axes()\n",
    "ax.scatter(df.loc[df['Genero'] == 'h', 'Masa'],\n",
    "           df.loc[df['Genero'] == 'h', 'Altura'],\n",
    "           c=\"red\",\n",
    "           label=\"Hombre\")\n",
    "ax.scatter(df.loc[df['Genero'] == 'm', 'Masa'],\n",
    "           df.loc[df['Genero'] == 'm', 'Altura'],\n",
    "           c=\"blue\",\n",
    "           label=\"Mujer\")\n",
    "ax.scatter(punto_nuevo['Masa'],\n",
    "           punto_nuevo['Altura'],\n",
    "           c=\"black\")\n",
    "#Agregamos información:\n",
    "ax.scatter(punto_nuevo1['Masa'],\n",
    "           punto_nuevo1['Altura'],\n",
    "           c=\"black\")\n",
    "ax.scatter(punto_nuevo2['Masa'],\n",
    "           punto_nuevo2['Altura'],\n",
    "           c=\"black\")\n",
    "\n",
    "plt.xlabel(\"Masa\")\n",
    "plt.ylabel(\"Altura\")\n",
    "ax.legend()\n",
    "plt.show()"
   ]
  },
  {
   "cell_type": "markdown",
   "id": "3444c104",
   "metadata": {},
   "source": [
    "Entrenamos el algoritmo KNN con los datos para los que tenemos etiquetas. Posteriormente predecimos la clase del punto para el que no tenemos etiqueta."
   ]
  },
  {
   "cell_type": "code",
   "execution_count": 61,
   "id": "e92ab093",
   "metadata": {},
   "outputs": [
    {
     "name": "stdout",
     "output_type": "stream",
     "text": [
      "['Predicion Sujeto 1 (H= Hombre | M= Mujer) :: h']\n",
      "['Predicion Sujeto 2 (H= Hombre | M= Mujer) :: m']\n",
      "['Predicion Sujeto 3 (H= Hombre | M= Mujer) :: m']\n"
     ]
    },
    {
     "name": "stderr",
     "output_type": "stream",
     "text": [
      "C:\\ProgramData\\Anaconda3\\lib\\site-packages\\sklearn\\neighbors\\_classification.py:198: DataConversionWarning: A column-vector y was passed when a 1d array was expected. Please change the shape of y to (n_samples,), for example using ravel().\n",
      "  return self._fit(X, y)\n",
      "C:\\ProgramData\\Anaconda3\\lib\\site-packages\\sklearn\\neighbors\\_classification.py:228: FutureWarning: Unlike other reduction functions (e.g. `skew`, `kurtosis`), the default behavior of `mode` typically preserves the axis it acts along. In SciPy 1.11.0, this behavior will change: the default value of `keepdims` will become False, the `axis` over which the statistic is taken will be eliminated, and the value None will no longer be accepted. Set `keepdims` to True or False to avoid this warning.\n",
      "  mode, _ = stats.mode(_y[neigh_ind, k], axis=1)\n",
      "C:\\ProgramData\\Anaconda3\\lib\\site-packages\\sklearn\\neighbors\\_classification.py:228: FutureWarning: Unlike other reduction functions (e.g. `skew`, `kurtosis`), the default behavior of `mode` typically preserves the axis it acts along. In SciPy 1.11.0, this behavior will change: the default value of `keepdims` will become False, the `axis` over which the statistic is taken will be eliminated, and the value None will no longer be accepted. Set `keepdims` to True or False to avoid this warning.\n",
      "  mode, _ = stats.mode(_y[neigh_ind, k], axis=1)\n",
      "C:\\ProgramData\\Anaconda3\\lib\\site-packages\\sklearn\\neighbors\\_classification.py:228: FutureWarning: Unlike other reduction functions (e.g. `skew`, `kurtosis`), the default behavior of `mode` typically preserves the axis it acts along. In SciPy 1.11.0, this behavior will change: the default value of `keepdims` will become False, the `axis` over which the statistic is taken will be eliminated, and the value None will no longer be accepted. Set `keepdims` to True or False to avoid this warning.\n",
      "  mode, _ = stats.mode(_y[neigh_ind, k], axis=1)\n"
     ]
    }
   ],
   "source": [
    "from sklearn.neighbors import KNeighborsClassifier\n",
    "\n",
    "# Ajuste del modelo y predicción\n",
    "knn = KNeighborsClassifier(n_neighbors=3)\n",
    "X = df[['Masa', 'Altura']]\n",
    "y = df[['Genero']]\n",
    "\n",
    "knn.fit(X, y)\n",
    "\n",
    "#Prediciones sujetos:\n",
    "prediccion = knn.predict(punto_nuevo)\n",
    "prediccion1 = knn.predict(punto_nuevo1)\n",
    "prediccion2 = knn.predict(punto_nuevo2)\n",
    "\n",
    "#Omitir Error uso Ravel().\n",
    "print(\"Predicion Sujeto 1 (H= Hombre | M= Mujer) :: \"+prediccion)\n",
    "print(\"Predicion Sujeto 2 (H= Hombre | M= Mujer) :: \"+prediccion2)\n",
    "print(\"Predicion Sujeto 3 (H= Hombre | M= Mujer) :: \"+prediccion2)"
   ]
  },
  {
   "cell_type": "code",
   "execution_count": null,
   "id": "8a5b9a18",
   "metadata": {},
   "outputs": [],
   "source": [
    "\n"
   ]
  }
 ],
 "metadata": {
  "kernelspec": {
   "display_name": "Python 3 (ipykernel)",
   "language": "python",
   "name": "python3"
  },
  "language_info": {
   "codemirror_mode": {
    "name": "ipython",
    "version": 3
   },
   "file_extension": ".py",
   "mimetype": "text/x-python",
   "name": "python",
   "nbconvert_exporter": "python",
   "pygments_lexer": "ipython3",
   "version": "3.9.13"
  }
 },
 "nbformat": 4,
 "nbformat_minor": 5
}
